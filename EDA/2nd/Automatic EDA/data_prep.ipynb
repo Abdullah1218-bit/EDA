{
 "cells": [
  {
   "cell_type": "code",
   "execution_count": 3,
   "id": "bd2809ec",
   "metadata": {},
   "outputs": [],
   "source": [
    "import pandas as pd\n",
    "import numpy as np\n"
   ]
  },
  {
   "cell_type": "code",
   "execution_count": 5,
   "id": "81f8eaeb",
   "metadata": {},
   "outputs": [
    {
     "data": {
      "application/vnd.jupyter.widget-view+json": {
       "model_id": "ee2faee1ad814d8d82f40b622e956e3f",
       "version_major": 2,
       "version_minor": 0
      },
      "text/plain": [
       "  0%|          | 0/1423 [00:00<?, ?it/s]"
      ]
     },
     "metadata": {},
     "output_type": "display_data"
    },
    {
     "name": "stderr",
     "output_type": "stream",
     "text": [
      "c:\\Users\\PC\\anaconda3\\envs\\data_prep\\lib\\site-packages\\dataprep\\eda\\distribution\\render.py:274: FutureWarning: The frame.append method is deprecated and will be removed from pandas in a future version. Use pandas.concat instead.\n",
      "  df = df.append(pd.DataFrame({col: [nrows - npresent]}, index=[\"Others\"]))\n",
      "c:\\Users\\PC\\anaconda3\\envs\\data_prep\\lib\\site-packages\\dataprep\\eda\\distribution\\render.py:274: FutureWarning: The frame.append method is deprecated and will be removed from pandas in a future version. Use pandas.concat instead.\n",
      "  df = df.append(pd.DataFrame({col: [nrows - npresent]}, index=[\"Others\"]))\n",
      "c:\\Users\\PC\\anaconda3\\envs\\data_prep\\lib\\site-packages\\dataprep\\eda\\distribution\\render.py:274: FutureWarning: The frame.append method is deprecated and will be removed from pandas in a future version. Use pandas.concat instead.\n",
      "  df = df.append(pd.DataFrame({col: [nrows - npresent]}, index=[\"Others\"]))\n",
      "c:\\Users\\PC\\anaconda3\\envs\\data_prep\\lib\\site-packages\\dataprep\\eda\\distribution\\render.py:274: FutureWarning: The frame.append method is deprecated and will be removed from pandas in a future version. Use pandas.concat instead.\n",
      "  df = df.append(pd.DataFrame({col: [nrows - npresent]}, index=[\"Others\"]))\n"
     ]
    }
   ],
   "source": [
    "from dataprep.datasets import load_dataset\n",
    "from dataprep.eda import create_report\n",
    "df=load_dataset(\"titanic\")\n",
    "report = create_report(df).show_browser()"
   ]
  }
 ],
 "metadata": {
  "kernelspec": {
   "display_name": "data_prep",
   "language": "python",
   "name": "python3"
  },
  "language_info": {
   "codemirror_mode": {
    "name": "ipython",
    "version": 3
   },
   "file_extension": ".py",
   "mimetype": "text/x-python",
   "name": "python",
   "nbconvert_exporter": "python",
   "pygments_lexer": "ipython3",
   "version": "3.10.17"
  }
 },
 "nbformat": 4,
 "nbformat_minor": 5
}
